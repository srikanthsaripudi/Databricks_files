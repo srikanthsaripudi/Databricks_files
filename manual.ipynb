{
 "cells": [
  {
   "cell_type": "code",
   "execution_count": 11,
   "id": "643af3be-aa4e-428f-9a4f-0f258c94977f",
   "metadata": {},
   "outputs": [
    {
     "name": "stdout",
     "output_type": "stream",
     "text": [
      "Requirement already satisfied: pandas in c:\\users\\admin\\anaconda3\\lib\\site-packages (1.2.4)\n",
      "Requirement already satisfied: numpy>=1.16.5 in c:\\users\\admin\\anaconda3\\lib\\site-packages (from pandas) (1.20.1)\n",
      "Requirement already satisfied: python-dateutil>=2.7.3 in c:\\users\\admin\\anaconda3\\lib\\site-packages (from pandas) (2.8.1)\n",
      "Requirement already satisfied: pytz>=2017.3 in c:\\users\\admin\\anaconda3\\lib\\site-packages (from pandas) (2021.1)\n",
      "Requirement already satisfied: six>=1.5 in c:\\users\\admin\\anaconda3\\lib\\site-packages (from python-dateutil>=2.7.3->pandas) (1.15.0)\n"
     ]
    }
   ],
   "source": [
    "!pip install pandas"
   ]
  },
  {
   "cell_type": "code",
   "execution_count": 12,
   "id": "e62bc541-0a6b-4a2b-9583-60ac9a43c94a",
   "metadata": {},
   "outputs": [],
   "source": [
    "import pandas as pd"
   ]
  },
  {
   "cell_type": "code",
   "execution_count": 14,
   "id": "ca9e0b24-af25-41a8-8f14-3ad89c676d95",
   "metadata": {},
   "outputs": [
    {
     "name": "stderr",
     "output_type": "stream",
     "text": [
      "C:\\Users\\Admin\\anaconda3\\lib\\site-packages\\IPython\\core\\interactiveshell.py:3165: DtypeWarning: Columns (39,45) have mixed types.Specify dtype option on import or set low_memory=False.\n",
      "  has_raised = await self.run_ast_nodes(code_ast.body, cell_name,\n"
     ]
    }
   ],
   "source": [
    "train = pd.read_csv('train.csv')"
   ]
  },
  {
   "cell_type": "code",
   "execution_count": 15,
   "id": "a0cfe92f-6a28-42ec-8938-582ae08158db",
   "metadata": {},
   "outputs": [
    {
     "name": "stdout",
     "output_type": "stream",
     "text": [
      "<class 'pandas.core.frame.DataFrame'>\n",
      "RangeIndex: 19387 entries, 0 to 19386\n",
      "Data columns (total 48 columns):\n",
      " #   Column               Non-Null Count  Dtype  \n",
      "---  ------               --------------  -----  \n",
      " 0   id                   19387 non-null  object \n",
      " 1   asins                2571 non-null   object \n",
      " 2   brand                19129 non-null  object \n",
      " 3   categories           19387 non-null  object \n",
      " 4   colors               11048 non-null  object \n",
      " 5   count                0 non-null      float64\n",
      " 6   dateadded            19387 non-null  object \n",
      " 7   dateupdated          19387 non-null  object \n",
      " 8   descriptions         9904 non-null   object \n",
      " 9   dimension            2991 non-null   object \n",
      " 10  ean                  9999 non-null   float64\n",
      " 11  features             13997 non-null  object \n",
      " 12  flavors              0 non-null      float64\n",
      " 13  imageurls            18342 non-null  object \n",
      " 14  isbn                 0 non-null      float64\n",
      " 15  keys                 19387 non-null  object \n",
      " 16  manufacturer         6699 non-null   object \n",
      " 17  manufacturernumber   15147 non-null  object \n",
      " 18  merchants            14040 non-null  object \n",
      " 19  name                 19387 non-null  object \n",
      " 20  prices_amountmin     19377 non-null  object \n",
      " 21  prices_amountmax     19387 non-null  object \n",
      " 22  prices_availability  197 non-null    object \n",
      " 23  prices_color         758 non-null    object \n",
      " 24  prices_condition     12621 non-null  object \n",
      " 25  prices_count         71 non-null     object \n",
      " 26  prices_currency      19311 non-null  object \n",
      " 27  prices_dateadded     19372 non-null  object \n",
      " 28  prices_dateseen      19362 non-null  object \n",
      " 29  prices_flavor        76 non-null     object \n",
      " 30  prices_issale        19321 non-null  object \n",
      " 31  prices_merchant      13843 non-null  object \n",
      " 32  prices_offer         6091 non-null   object \n",
      " 33  prices_returnpolicy  1018 non-null   object \n",
      " 34  prices_shipping      5753 non-null   object \n",
      " 35  prices_size          661 non-null    object \n",
      " 36  prices_source        16 non-null     object \n",
      " 37  prices_sourceurls    19281 non-null  object \n",
      " 38  prices_warranty      108 non-null    object \n",
      " 39  quantities           11 non-null     object \n",
      " 40  reviews              1664 non-null   object \n",
      " 41  sizes                5979 non-null   object \n",
      " 42  skus                 8743 non-null   object \n",
      " 43  sourceurls           19263 non-null  object \n",
      " 44  upc                  10816 non-null  object \n",
      " 45  vin                  46 non-null     object \n",
      " 46  websiteids           8 non-null      object \n",
      " 47  weight               863 non-null    object \n",
      "dtypes: float64(4), object(44)\n",
      "memory usage: 7.1+ MB\n"
     ]
    }
   ],
   "source": [
    "train.info()"
   ]
  },
  {
   "cell_type": "code",
   "execution_count": 16,
   "id": "bfc8ca7e-e99c-484e-a8d5-153f745d83a1",
   "metadata": {},
   "outputs": [
    {
     "data": {
      "text/plain": [
       "All Men's Shoes,Shoes,Men's Shoes,Clothing                                                                                                                                                                3717\n",
       "Clothing,Shoes,Men's Shoes,All Men's Shoes                                                                                                                                                                1644\n",
       "Men's Casual Shoes,Shoes,Men's Shoes,Clothing                                                                                                                                                              699\n",
       "All Men's Clothing,Men's Clothing,Men's Outerwear,Clothing, Shoes & Jewelry,Clothing                                                                                                                       588\n",
       "Clothing, Shoes & Accessories,Men's Shoes,Athletic                                                                                                                                                         400\n",
       "                                                                                                                                                                                                          ... \n",
       "Clothing, Shoes, Accessories,Men's Accessories,Bags, Briefcases,Sporting Goods,Camping, Hiking,Hiking Backpacks,Daypacks                                                                                     1\n",
       "Athletic,Men,Shoes,Clothing, Shoes & Jewelry                                                                                                                                                                 1\n",
       "Caterpillar Men's Heavy Insulated Parka: Amazon.ca: Clothing & Accessories,Outerwear,Uniforms, Work & Safety,Men,Clothing & Accessories,Work Utility & Safety,Clothing, Shoes & Jewelry,Clothing,Shops       1\n",
       "Clothing, Shoes & Accessories,Men's Clothing,Shorts,See more ASICS 6674 Mens Tan Signature Golf Coaches Car...                                                                                               1\n",
       "Clothing, Shoes & Accessories,Men's Clothing,Athletic Apparel,See more Official adidas Core 15 3 4 Training Pants M35...                                                                                     1\n",
       "Name: categories, Length: 1264, dtype: int64"
      ]
     },
     "execution_count": 16,
     "metadata": {},
     "output_type": "execute_result"
    }
   ],
   "source": [
    "train['categories'].value_counts()"
   ]
  },
  {
   "cell_type": "code",
   "execution_count": 17,
   "id": "3f4a6cd7-b0cc-442b-b6d5-cdcf66ac538b",
   "metadata": {},
   "outputs": [
    {
     "data": {
      "text/plain": [
       "All Men's Shoes,Shoes,Men's Shoes,Clothing                                              3717\n",
       "Clothing,Shoes,Men's Shoes,All Men's Shoes                                              1644\n",
       "Men's Casual Shoes,Shoes,Men's Shoes,Clothing                                            699\n",
       "All Men's Clothing,Men's Clothing,Men's Outerwear,Clothing, Shoes & Jewelry,Clothing     588\n",
       "Clothing, Shoes & Accessories,Men's Shoes,Athletic                                       400\n",
       "Clothing,Shoes,Men's Shoes,Men's Casual Shoes                                            367\n",
       "Clothing, Shoes & Accessories,Men's Accessories,Backpacks, Bags & Briefcases             289\n",
       "Home Improvement,Men's Work & Safety Shoes,Work Safety Clothing and Equipment            255\n",
       "Men's Dress Shoes,Shoes,Men's Shoes,Clothing                                             242\n",
       "Clothing, Shoes, Accessories,Men's Sunglasses                                            203\n",
       "Name: categories, dtype: int64"
      ]
     },
     "execution_count": 17,
     "metadata": {},
     "output_type": "execute_result"
    }
   ],
   "source": [
    "train['categories'].value_counts()[0:10]"
   ]
  },
  {
   "cell_type": "code",
   "execution_count": 18,
   "id": "30a646e2-96dc-4551-8317-6402d136ee1f",
   "metadata": {},
   "outputs": [
    {
     "data": {
      "text/plain": [
       "0        False\n",
       "1        False\n",
       "2        False\n",
       "3        False\n",
       "4        False\n",
       "         ...  \n",
       "19382    False\n",
       "19383    False\n",
       "19384    False\n",
       "19385    False\n",
       "19386    False\n",
       "Name: categories, Length: 19387, dtype: bool"
      ]
     },
     "execution_count": 18,
     "metadata": {},
     "output_type": "execute_result"
    }
   ],
   "source": [
    "train['categories']==\"Clothing, Shoes & Accessories,Men's Shoes,Athletic\""
   ]
  },
  {
   "cell_type": "code",
   "execution_count": 19,
   "id": "e826b2c6-e05e-45be-b24e-710eddc6162a",
   "metadata": {},
   "outputs": [],
   "source": [
    "intrestTrain=train[train['categories']==\"Clothing, Shoes & Accessories,Men's Shoes,Athletic\"]"
   ]
  },
  {
   "cell_type": "code",
   "execution_count": 20,
   "id": "bde0cec1-0840-49b5-ba0b-e9c71be7183c",
   "metadata": {},
   "outputs": [
    {
     "ename": "AttributeError",
     "evalue": "'DataFrame' object has no attribute 'Info'",
     "output_type": "error",
     "traceback": [
      "\u001b[1;31m---------------------------------------------------------------------------\u001b[0m",
      "\u001b[1;31mAttributeError\u001b[0m                            Traceback (most recent call last)",
      "\u001b[1;32m<ipython-input-20-81889a2523e4>\u001b[0m in \u001b[0;36m<module>\u001b[1;34m\u001b[0m\n\u001b[1;32m----> 1\u001b[1;33m \u001b[0mintrestTrain\u001b[0m\u001b[1;33m.\u001b[0m\u001b[0mInfo\u001b[0m\u001b[1;33m(\u001b[0m\u001b[1;33m)\u001b[0m\u001b[1;33m\u001b[0m\u001b[1;33m\u001b[0m\u001b[0m\n\u001b[0m",
      "\u001b[1;32m~\\anaconda3\\lib\\site-packages\\pandas\\core\\generic.py\u001b[0m in \u001b[0;36m__getattr__\u001b[1;34m(self, name)\u001b[0m\n\u001b[0;32m   5463\u001b[0m             \u001b[1;32mif\u001b[0m \u001b[0mself\u001b[0m\u001b[1;33m.\u001b[0m\u001b[0m_info_axis\u001b[0m\u001b[1;33m.\u001b[0m\u001b[0m_can_hold_identifiers_and_holds_name\u001b[0m\u001b[1;33m(\u001b[0m\u001b[0mname\u001b[0m\u001b[1;33m)\u001b[0m\u001b[1;33m:\u001b[0m\u001b[1;33m\u001b[0m\u001b[1;33m\u001b[0m\u001b[0m\n\u001b[0;32m   5464\u001b[0m                 \u001b[1;32mreturn\u001b[0m \u001b[0mself\u001b[0m\u001b[1;33m[\u001b[0m\u001b[0mname\u001b[0m\u001b[1;33m]\u001b[0m\u001b[1;33m\u001b[0m\u001b[1;33m\u001b[0m\u001b[0m\n\u001b[1;32m-> 5465\u001b[1;33m             \u001b[1;32mreturn\u001b[0m \u001b[0mobject\u001b[0m\u001b[1;33m.\u001b[0m\u001b[0m__getattribute__\u001b[0m\u001b[1;33m(\u001b[0m\u001b[0mself\u001b[0m\u001b[1;33m,\u001b[0m \u001b[0mname\u001b[0m\u001b[1;33m)\u001b[0m\u001b[1;33m\u001b[0m\u001b[1;33m\u001b[0m\u001b[0m\n\u001b[0m\u001b[0;32m   5466\u001b[0m \u001b[1;33m\u001b[0m\u001b[0m\n\u001b[0;32m   5467\u001b[0m     \u001b[1;32mdef\u001b[0m \u001b[0m__setattr__\u001b[0m\u001b[1;33m(\u001b[0m\u001b[0mself\u001b[0m\u001b[1;33m,\u001b[0m \u001b[0mname\u001b[0m\u001b[1;33m:\u001b[0m \u001b[0mstr\u001b[0m\u001b[1;33m,\u001b[0m \u001b[0mvalue\u001b[0m\u001b[1;33m)\u001b[0m \u001b[1;33m->\u001b[0m \u001b[1;32mNone\u001b[0m\u001b[1;33m:\u001b[0m\u001b[1;33m\u001b[0m\u001b[1;33m\u001b[0m\u001b[0m\n",
      "\u001b[1;31mAttributeError\u001b[0m: 'DataFrame' object has no attribute 'Info'"
     ]
    }
   ],
   "source": [
    "intrestTrain.Info()"
   ]
  },
  {
   "cell_type": "code",
   "execution_count": 21,
   "id": "63259cee-dc4e-4e0b-ae52-c46389811f38",
   "metadata": {},
   "outputs": [
    {
     "data": {
      "text/html": [
       "<div>\n",
       "<style scoped>\n",
       "    .dataframe tbody tr th:only-of-type {\n",
       "        vertical-align: middle;\n",
       "    }\n",
       "\n",
       "    .dataframe tbody tr th {\n",
       "        vertical-align: top;\n",
       "    }\n",
       "\n",
       "    .dataframe thead th {\n",
       "        text-align: right;\n",
       "    }\n",
       "</style>\n",
       "<table border=\"1\" class=\"dataframe\">\n",
       "  <thead>\n",
       "    <tr style=\"text-align: right;\">\n",
       "      <th></th>\n",
       "      <th>merchants</th>\n",
       "      <th>prices_amountmin</th>\n",
       "      <th>prices_amountmax</th>\n",
       "    </tr>\n",
       "  </thead>\n",
       "  <tbody>\n",
       "    <tr>\n",
       "      <th>60</th>\n",
       "      <td>[{\"dateSeen\":[\"2016-02-27T00:00:00Z\"],\"name\":\"...</td>\n",
       "      <td>119.99</td>\n",
       "      <td>119.99</td>\n",
       "    </tr>\n",
       "    <tr>\n",
       "      <th>113</th>\n",
       "      <td>[{\"dateSeen\":[\"2016-04-06T00:00:00Z\"],\"name\":\"...</td>\n",
       "      <td>109.95</td>\n",
       "      <td>109.95</td>\n",
       "    </tr>\n",
       "    <tr>\n",
       "      <th>128</th>\n",
       "      <td>[{\"dateSeen\":[\"2016-02-27T00:00:00Z\"],\"name\":\"...</td>\n",
       "      <td>78.00</td>\n",
       "      <td>78.00</td>\n",
       "    </tr>\n",
       "    <tr>\n",
       "      <th>184</th>\n",
       "      <td>[{\"dateSeen\":[\"2016-04-06T00:00:00Z\"],\"name\":\"...</td>\n",
       "      <td>69.99</td>\n",
       "      <td>69.99</td>\n",
       "    </tr>\n",
       "    <tr>\n",
       "      <th>202</th>\n",
       "      <td>[{\"dateSeen\":[\"2016-04-11T00:00:00Z\"],\"name\":\"...</td>\n",
       "      <td>69.99</td>\n",
       "      <td>69.99</td>\n",
       "    </tr>\n",
       "    <tr>\n",
       "      <th>...</th>\n",
       "      <td>...</td>\n",
       "      <td>...</td>\n",
       "      <td>...</td>\n",
       "    </tr>\n",
       "    <tr>\n",
       "      <th>19011</th>\n",
       "      <td>[{\"dateSeen\":[\"2016-04-01T00:00:00Z\"],\"name\":\"...</td>\n",
       "      <td>68.99</td>\n",
       "      <td>68.99</td>\n",
       "    </tr>\n",
       "    <tr>\n",
       "      <th>19036</th>\n",
       "      <td>[{\"dateSeen\":[\"2016-04-01T00:00:00Z\"],\"name\":\"...</td>\n",
       "      <td>51.99</td>\n",
       "      <td>51.99</td>\n",
       "    </tr>\n",
       "    <tr>\n",
       "      <th>19079</th>\n",
       "      <td>[{\"dateSeen\":[\"2016-04-03T00:00:00Z\"],\"name\":\"...</td>\n",
       "      <td>79.95</td>\n",
       "      <td>79.95</td>\n",
       "    </tr>\n",
       "    <tr>\n",
       "      <th>19080</th>\n",
       "      <td>[{\"dateSeen\":[\"2016-04-03T00:00:00Z\"],\"name\":\"...</td>\n",
       "      <td>99.94</td>\n",
       "      <td>99.94</td>\n",
       "    </tr>\n",
       "    <tr>\n",
       "      <th>19296</th>\n",
       "      <td>[{\"dateSeen\":[\"2016-03-02T00:00:00Z\"],\"name\":\"...</td>\n",
       "      <td>44.00</td>\n",
       "      <td>44.00</td>\n",
       "    </tr>\n",
       "  </tbody>\n",
       "</table>\n",
       "<p>400 rows × 3 columns</p>\n",
       "</div>"
      ],
      "text/plain": [
       "                                               merchants prices_amountmin  \\\n",
       "60     [{\"dateSeen\":[\"2016-02-27T00:00:00Z\"],\"name\":\"...           119.99   \n",
       "113    [{\"dateSeen\":[\"2016-04-06T00:00:00Z\"],\"name\":\"...           109.95   \n",
       "128    [{\"dateSeen\":[\"2016-02-27T00:00:00Z\"],\"name\":\"...            78.00   \n",
       "184    [{\"dateSeen\":[\"2016-04-06T00:00:00Z\"],\"name\":\"...            69.99   \n",
       "202    [{\"dateSeen\":[\"2016-04-11T00:00:00Z\"],\"name\":\"...            69.99   \n",
       "...                                                  ...              ...   \n",
       "19011  [{\"dateSeen\":[\"2016-04-01T00:00:00Z\"],\"name\":\"...            68.99   \n",
       "19036  [{\"dateSeen\":[\"2016-04-01T00:00:00Z\"],\"name\":\"...            51.99   \n",
       "19079  [{\"dateSeen\":[\"2016-04-03T00:00:00Z\"],\"name\":\"...            79.95   \n",
       "19080  [{\"dateSeen\":[\"2016-04-03T00:00:00Z\"],\"name\":\"...            99.94   \n",
       "19296  [{\"dateSeen\":[\"2016-03-02T00:00:00Z\"],\"name\":\"...            44.00   \n",
       "\n",
       "      prices_amountmax  \n",
       "60              119.99  \n",
       "113             109.95  \n",
       "128              78.00  \n",
       "184              69.99  \n",
       "202              69.99  \n",
       "...                ...  \n",
       "19011            68.99  \n",
       "19036            51.99  \n",
       "19079            79.95  \n",
       "19080            99.94  \n",
       "19296            44.00  \n",
       "\n",
       "[400 rows x 3 columns]"
      ]
     },
     "execution_count": 21,
     "metadata": {},
     "output_type": "execute_result"
    }
   ],
   "source": [
    "intrestTrain.iloc[0:400,[18,20,21]]"
   ]
  },
  {
   "cell_type": "code",
   "execution_count": 22,
   "id": "a0656505-490e-469a-b33b-1e642979eb10",
   "metadata": {},
   "outputs": [
    {
     "data": {
      "text/plain": [
       "69.99    16\n",
       "49.99    15\n",
       "59.99    14\n",
       "89.99    14\n",
       "99.99    12\n",
       "         ..\n",
       "74.97     1\n",
       "63.99     1\n",
       "59.42     1\n",
       "64.90     1\n",
       "79.90     1\n",
       "Name: prices_amountmax, Length: 216, dtype: int64"
      ]
     },
     "execution_count": 22,
     "metadata": {},
     "output_type": "execute_result"
    }
   ],
   "source": [
    "intrestTrain.iloc[0:400,[18,20,21]][\"prices_amountmax\"].value_counts()"
   ]
  },
  {
   "cell_type": "code",
   "execution_count": 23,
   "id": "5381b29b-dd80-4e35-a0de-739c46e79fc1",
   "metadata": {},
   "outputs": [],
   "source": [
    "tr2=intrestTrain.iloc[0:400,[18,20,21]]"
   ]
  },
  {
   "cell_type": "code",
   "execution_count": 24,
   "id": "a29b5bc0-abed-4a84-ac4b-75c8fb5bfba4",
   "metadata": {},
   "outputs": [],
   "source": [
    "tr2['prices_amountmax']=tr2['prices_amountmax'].astype(float)"
   ]
  },
  {
   "cell_type": "code",
   "execution_count": 25,
   "id": "2ffec5a2-d98b-4056-b951-1179d9fb6fa2",
   "metadata": {},
   "outputs": [],
   "source": [
    "tr2['prices_amountmin']=tr2['prices_amountmin'].astype(float)"
   ]
  },
  {
   "cell_type": "code",
   "execution_count": null,
   "id": "d31b95fb-d3a7-4d41-a084-763ace677ba3",
   "metadata": {},
   "outputs": [],
   "source": []
  },
  {
   "cell_type": "code",
   "execution_count": null,
   "id": "6ad7e979-a5b5-494b-83e6-7c851313310c",
   "metadata": {},
   "outputs": [],
   "source": []
  },
  {
   "cell_type": "code",
   "execution_count": 26,
   "id": "f7fd551f-cb80-49e5-9e2c-8f42ee2f8adf",
   "metadata": {},
   "outputs": [
    {
     "name": "stdout",
     "output_type": "stream",
     "text": [
      "alabaster @ file:///home/ktietz/src/ci/alabaster_1611921544520/work\n",
      "anaconda-client==1.7.2\n",
      "anaconda-navigator==2.0.3\n",
      "anaconda-project @ file:///tmp/build/80754af9/anaconda-project_1610472525955/work\n",
      "anyio @ file:///C:/ci/anyio_1620153418380/work/dist\n",
      "appdirs==1.4.4\n",
      "argh==0.26.2\n",
      "argon2-cffi @ file:///C:/ci/argon2-cffi_1613037959010/work\n",
      "asn1crypto @ file:///tmp/build/80754af9/asn1crypto_1596577642040/work\n",
      "astroid @ file:///C:/ci/astroid_1613501047216/work\n",
      "astropy @ file:///C:/ci/astropy_1617745647203/work\n",
      "async-generator @ file:///home/ktietz/src/ci/async_generator_1611927993394/work\n",
      "atomicwrites==1.4.0\n",
      "attrs @ file:///tmp/build/80754af9/attrs_1604765588209/work\n",
      "autopep8 @ file:///tmp/build/80754af9/autopep8_1615918855173/work\n",
      "Babel @ file:///tmp/build/80754af9/babel_1607110387436/work\n",
      "backcall @ file:///home/ktietz/src/ci/backcall_1611930011877/work\n",
      "backports.functools-lru-cache @ file:///tmp/build/80754af9/backports.functools_lru_cache_1618170165463/work\n",
      "backports.shutil-get-terminal-size @ file:///tmp/build/80754af9/backports.shutil_get_terminal_size_1608222128777/work\n",
      "backports.tempfile @ file:///home/linux1/recipes/ci/backports.tempfile_1610991236607/work\n",
      "backports.weakref==1.0.post1\n",
      "bcrypt @ file:///C:/ci/bcrypt_1597936263757/work\n",
      "beautifulsoup4 @ file:///home/linux1/recipes/ci/beautifulsoup4_1610988766420/work\n",
      "bitarray @ file:///C:/ci/bitarray_1618435038389/work\n",
      "bkcharts==0.2\n",
      "black==19.10b0\n",
      "bleach @ file:///tmp/build/80754af9/bleach_1612211392645/work\n",
      "bokeh @ file:///C:/ci/bokeh_1620784067744/work\n",
      "boto==2.49.0\n",
      "Bottleneck==1.3.2\n",
      "brotlipy==0.7.0\n",
      "certifi==2020.12.5\n",
      "cffi @ file:///C:/ci/cffi_1613247279197/work\n",
      "chardet @ file:///C:/ci/chardet_1607690654534/work\n",
      "click @ file:///home/linux1/recipes/ci/click_1610990599742/work\n",
      "cloudpickle @ file:///tmp/build/80754af9/cloudpickle_1598884132938/work\n",
      "clyent==1.2.2\n",
      "colorama @ file:///tmp/build/80754af9/colorama_1607707115595/work\n",
      "comtypes==1.1.9\n",
      "conda==4.10.1\n",
      "conda-build==3.21.4\n",
      "conda-content-trust @ file:///tmp/build/80754af9/conda-content-trust_1617045594566/work\n",
      "conda-package-handling @ file:///C:/ci/conda-package-handling_1618262320430/work\n",
      "conda-repo-cli @ file:///tmp/build/80754af9/conda-repo-cli_1620168426516/work\n",
      "conda-token @ file:///tmp/build/80754af9/conda-token_1620076980546/work\n",
      "conda-verify==3.4.2\n",
      "contextlib2==0.6.0.post1\n",
      "cryptography @ file:///C:/ci/cryptography_1616769344312/work\n",
      "cycler==0.10.0\n",
      "Cython @ file:///C:/ci/cython_1618435363327/work\n",
      "cytoolz==0.11.0\n",
      "dask @ file:///tmp/build/80754af9/dask-core_1617390489108/work\n",
      "decorator @ file:///tmp/build/80754af9/decorator_1617916966915/work\n",
      "defusedxml @ file:///tmp/build/80754af9/defusedxml_1615228127516/work\n",
      "diff-match-patch @ file:///tmp/build/80754af9/diff-match-patch_1594828741838/work\n",
      "distributed @ file:///C:/ci/distributed_1617384289923/work\n",
      "docutils @ file:///C:/ci/docutils_1617481617511/work\n",
      "entrypoints==0.3\n",
      "et-xmlfile==1.0.1\n",
      "fastcache==1.1.0\n",
      "filelock @ file:///home/linux1/recipes/ci/filelock_1610993975404/work\n",
      "flake8 @ file:///tmp/build/80754af9/flake8_1615834841867/work\n",
      "Flask @ file:///home/ktietz/src/ci/flask_1611932660458/work\n",
      "fsspec @ file:///tmp/build/80754af9/fsspec_1617959894824/work\n",
      "future==0.18.2\n",
      "gevent @ file:///C:/ci/gevent_1616773090559/work\n",
      "glob2 @ file:///home/linux1/recipes/ci/glob2_1610991677669/work\n",
      "greenlet @ file:///C:/ci/greenlet_1611958565931/work\n",
      "h5py==2.10.0\n",
      "HeapDict==1.0.1\n",
      "html5lib @ file:///tmp/build/80754af9/html5lib_1593446221756/work\n",
      "idna @ file:///home/linux1/recipes/ci/idna_1610986105248/work\n",
      "imagecodecs @ file:///C:/ci/imagecodecs_1617996768495/work\n",
      "imageio @ file:///tmp/build/80754af9/imageio_1617700267927/work\n",
      "imagesize @ file:///home/ktietz/src/ci/imagesize_1611921604382/work\n",
      "importlib-metadata @ file:///C:/ci/importlib-metadata_1617877484576/work\n",
      "iniconfig @ file:///home/linux1/recipes/ci/iniconfig_1610983019677/work\n",
      "intervaltree @ file:///tmp/build/80754af9/intervaltree_1598376443606/work\n",
      "ipykernel @ file:///C:/ci/ipykernel_1596190155316/work/dist/ipykernel-5.3.4-py3-none-any.whl\n",
      "ipython @ file:///C:/ci/ipython_1617121002983/work\n",
      "ipython-genutils @ file:///tmp/build/80754af9/ipython_genutils_1606773439826/work\n",
      "ipywidgets @ file:///tmp/build/80754af9/ipywidgets_1610481889018/work\n",
      "isort @ file:///tmp/build/80754af9/isort_1616355431277/work\n",
      "itsdangerous @ file:///home/ktietz/src/ci/itsdangerous_1611932585308/work\n",
      "jdcal==1.4.1\n",
      "jedi @ file:///C:/ci/jedi_1606914528444/work\n",
      "Jinja2 @ file:///tmp/build/80754af9/jinja2_1612213139570/work\n",
      "joblib @ file:///tmp/build/80754af9/joblib_1613502643832/work\n",
      "json5==0.9.5\n",
      "jsonschema @ file:///tmp/build/80754af9/jsonschema_1602607155483/work\n",
      "jupyter==1.0.0\n",
      "jupyter-client @ file:///tmp/build/80754af9/jupyter_client_1616770841739/work\n",
      "jupyter-console @ file:///tmp/build/80754af9/jupyter_console_1616615302928/work\n",
      "jupyter-core @ file:///C:/ci/jupyter_core_1612213356021/work\n",
      "jupyter-packaging @ file:///tmp/build/80754af9/jupyter-packaging_1613502826984/work\n",
      "jupyter-server @ file:///C:/ci/jupyter_server_1616084298403/work\n",
      "jupyterlab @ file:///tmp/build/80754af9/jupyterlab_1619133235951/work\n",
      "jupyterlab-pygments @ file:///tmp/build/80754af9/jupyterlab_pygments_1601490720602/work\n",
      "jupyterlab-server @ file:///tmp/build/80754af9/jupyterlab_server_1617134334258/work\n",
      "jupyterlab-widgets @ file:///tmp/build/80754af9/jupyterlab_widgets_1609884341231/work\n",
      "keyring @ file:///C:/ci/keyring_1614616910860/work\n",
      "kiwisolver @ file:///C:/ci/kiwisolver_1612282606037/work\n",
      "lazy-object-proxy @ file:///C:/ci/lazy-object-proxy_1616529307648/work\n",
      "libarchive-c @ file:///tmp/build/80754af9/python-libarchive-c_1617780486945/work\n",
      "llvmlite==0.36.0\n",
      "locket==0.2.1\n",
      "lxml @ file:///C:/ci/lxml_1616443455957/work\n",
      "MarkupSafe==1.1.1\n",
      "matplotlib @ file:///C:/ci/matplotlib-suite_1613408055530/work\n",
      "mccabe==0.6.1\n",
      "menuinst==1.4.16\n",
      "mistune==0.8.4\n",
      "mkl-fft==1.3.0\n",
      "mkl-random @ file:///C:/ci/mkl_random_1618854156666/work\n",
      "mkl-service==2.3.0\n",
      "mock @ file:///tmp/build/80754af9/mock_1607622725907/work\n",
      "more-itertools @ file:///tmp/build/80754af9/more-itertools_1613676688952/work\n",
      "mpmath==1.2.1\n",
      "msgpack @ file:///C:/ci/msgpack-python_1612287368835/work\n",
      "multipledispatch==0.6.0\n",
      "mypy-extensions==0.4.3\n",
      "navigator-updater==0.2.1\n",
      "nbclassic @ file:///tmp/build/80754af9/nbclassic_1616085367084/work\n",
      "nbclient @ file:///tmp/build/80754af9/nbclient_1614364831625/work\n",
      "nbconvert @ file:///C:/ci/nbconvert_1601914925608/work\n",
      "nbformat @ file:///tmp/build/80754af9/nbformat_1617383369282/work\n",
      "nest-asyncio @ file:///tmp/build/80754af9/nest-asyncio_1613680548246/work\n",
      "networkx @ file:///tmp/build/80754af9/networkx_1598376031484/work\n",
      "nltk @ file:///tmp/build/80754af9/nltk_1618327084230/work\n",
      "nose @ file:///tmp/build/80754af9/nose_1606773131901/work\n",
      "notebook @ file:///C:/ci/notebook_1616443715883/work\n",
      "numba @ file:///C:/ci/numba_1616774458845/work\n",
      "numexpr @ file:///C:/ci/numexpr_1618856738664/work\n",
      "numpy @ file:///C:/ci/numpy_and_numpy_base_1618497418457/work\n",
      "numpydoc @ file:///tmp/build/80754af9/numpydoc_1605117425582/work\n",
      "olefile==0.46\n",
      "openpyxl @ file:///tmp/build/80754af9/openpyxl_1615411699337/work\n",
      "packaging @ file:///tmp/build/80754af9/packaging_1611952188834/work\n",
      "pandas @ file:///C:/ci/pandas_1618365634936/work\n",
      "pandocfilters @ file:///C:/ci/pandocfilters_1605102497129/work\n",
      "paramiko @ file:///tmp/build/80754af9/paramiko_1598886428689/work\n",
      "parso==0.7.0\n",
      "partd @ file:///tmp/build/80754af9/partd_1618000087440/work\n",
      "path @ file:///C:/ci/path_1614022440181/work\n",
      "pathlib2 @ file:///C:/ci/pathlib2_1607025069150/work\n",
      "pathspec==0.7.0\n",
      "patsy==0.5.1\n",
      "pep8==1.7.1\n",
      "pexpect @ file:///tmp/build/80754af9/pexpect_1605563209008/work\n",
      "pickleshare @ file:///tmp/build/80754af9/pickleshare_1606932040724/work\n",
      "Pillow @ file:///C:/ci/pillow_1617386341487/work\n",
      "pkginfo==1.7.0\n",
      "pluggy @ file:///C:/ci/pluggy_1615976358795/work\n",
      "ply==3.11\n",
      "prometheus-client @ file:///tmp/build/80754af9/prometheus_client_1618088486455/work\n",
      "prompt-toolkit @ file:///tmp/build/80754af9/prompt-toolkit_1616415428029/work\n",
      "psutil @ file:///C:/ci/psutil_1612298324802/work\n",
      "ptyprocess @ file:///tmp/build/80754af9/ptyprocess_1609355006118/work/dist/ptyprocess-0.7.0-py2.py3-none-any.whl\n",
      "py @ file:///tmp/build/80754af9/py_1607971587848/work\n",
      "pycodestyle @ file:///home/ktietz/src/ci_mi/pycodestyle_1612807597675/work\n",
      "pycosat==0.6.3\n",
      "pycparser @ file:///tmp/build/80754af9/pycparser_1594388511720/work\n",
      "pycurl==7.43.0.6\n",
      "pydocstyle @ file:///tmp/build/80754af9/pydocstyle_1616182067796/work\n",
      "pyerfa @ file:///C:/ci/pyerfa_1619391071834/work\n",
      "pyflakes @ file:///home/ktietz/src/ci_ipy2/pyflakes_1612551159640/work\n",
      "Pygments @ file:///tmp/build/80754af9/pygments_1615143339740/work\n",
      "pylint @ file:///C:/ci/pylint_1617136058775/work\n",
      "pyls-black @ file:///tmp/build/80754af9/pyls-black_1607553132291/work\n",
      "pyls-spyder @ file:///tmp/build/80754af9/pyls-spyder_1613849700860/work\n",
      "PyNaCl @ file:///C:/ci/pynacl_1595000047588/work\n",
      "pyodbc===4.0.0-unsupported\n",
      "pyOpenSSL @ file:///tmp/build/80754af9/pyopenssl_1608057966937/work\n",
      "pyparsing @ file:///home/linux1/recipes/ci/pyparsing_1610983426697/work\n",
      "pyreadline==2.1\n",
      "pyrsistent @ file:///C:/ci/pyrsistent_1600141795814/work\n",
      "PySocks @ file:///C:/ci/pysocks_1605287845585/work\n",
      "pytest==6.2.3\n",
      "python-dateutil @ file:///home/ktietz/src/ci/python-dateutil_1611928101742/work\n",
      "python-jsonrpc-server @ file:///tmp/build/80754af9/python-jsonrpc-server_1600278539111/work\n",
      "python-language-server @ file:///tmp/build/80754af9/python-language-server_1607972495879/work\n",
      "pytz @ file:///tmp/build/80754af9/pytz_1612215392582/work\n",
      "PyWavelets @ file:///C:/ci/pywavelets_1601658407916/work\n",
      "pywin32==227\n",
      "pywin32-ctypes==0.2.0\n",
      "pywinpty==0.5.7\n",
      "PyYAML==5.4.1\n",
      "pyzmq==20.0.0\n",
      "QDarkStyle==2.8.1\n",
      "QtAwesome @ file:///tmp/build/80754af9/qtawesome_1615991616277/work\n",
      "qtconsole @ file:///tmp/build/80754af9/qtconsole_1616775094278/work\n",
      "QtPy==1.9.0\n",
      "regex @ file:///C:/ci/regex_1617569893741/work\n",
      "requests @ file:///tmp/build/80754af9/requests_1608241421344/work\n",
      "rope @ file:///tmp/build/80754af9/rope_1602264064449/work\n",
      "Rtree @ file:///C:/ci/rtree_1618421009405/work\n",
      "ruamel-yaml-conda @ file:///C:/ci/ruamel_yaml_1616016967756/work\n",
      "scikit-image==0.18.1\n",
      "scikit-learn @ file:///C:/ci/scikit-learn_1614446896245/work\n",
      "scipy @ file:///C:/ci/scipy_1618856128765/work\n",
      "seaborn @ file:///tmp/build/80754af9/seaborn_1608578541026/work\n",
      "Send2Trash @ file:///tmp/build/80754af9/send2trash_1607525499227/work\n",
      "simplegeneric==0.8.1\n",
      "singledispatch @ file:///tmp/build/80754af9/singledispatch_1614366001199/work\n",
      "sip==4.19.13\n",
      "six @ file:///C:/ci/six_1605187374963/work\n",
      "sniffio @ file:///C:/ci/sniffio_1614030707456/work\n",
      "snowballstemmer @ file:///tmp/build/80754af9/snowballstemmer_1611258885636/work\n",
      "sortedcollections @ file:///tmp/build/80754af9/sortedcollections_1611172717284/work\n",
      "sortedcontainers @ file:///tmp/build/80754af9/sortedcontainers_1606865132123/work\n",
      "soupsieve @ file:///tmp/build/80754af9/soupsieve_1616183228191/work\n",
      "Sphinx @ file:///tmp/build/80754af9/sphinx_1620777493457/work\n",
      "sphinxcontrib-applehelp @ file:///home/ktietz/src/ci/sphinxcontrib-applehelp_1611920841464/work\n",
      "sphinxcontrib-devhelp @ file:///home/ktietz/src/ci/sphinxcontrib-devhelp_1611920923094/work\n",
      "sphinxcontrib-htmlhelp @ file:///home/ktietz/src/ci/sphinxcontrib-htmlhelp_1611920974801/work\n",
      "sphinxcontrib-jsmath @ file:///home/ktietz/src/ci/sphinxcontrib-jsmath_1611920942228/work\n",
      "sphinxcontrib-qthelp @ file:///home/ktietz/src/ci/sphinxcontrib-qthelp_1611921055322/work\n",
      "sphinxcontrib-serializinghtml @ file:///home/ktietz/src/ci/sphinxcontrib-serializinghtml_1611920755253/work\n",
      "sphinxcontrib-websupport @ file:///tmp/build/80754af9/sphinxcontrib-websupport_1597081412696/work\n",
      "spyder @ file:///C:/ci/spyder_1616776239898/work\n",
      "spyder-kernels @ file:///C:/ci/spyder-kernels_1614030842607/work\n",
      "SQLAlchemy @ file:///C:/ci/sqlalchemy_1618090063261/work\n",
      "statsmodels==0.12.2\n",
      "sympy @ file:///C:/ci/sympy_1618255511605/work\n",
      "tables==3.6.1\n",
      "tblib @ file:///tmp/build/80754af9/tblib_1597928476713/work\n",
      "terminado==0.9.4\n",
      "testpath @ file:///home/ktietz/src/ci/testpath_1611930608132/work\n",
      "textdistance @ file:///tmp/build/80754af9/textdistance_1612461398012/work\n",
      "threadpoolctl @ file:///tmp/tmp9twdgx9k/threadpoolctl-2.1.0-py3-none-any.whl\n",
      "three-merge @ file:///tmp/build/80754af9/three-merge_1607553261110/work\n",
      "tifffile @ file:///tmp/build/80754af9/tifffile_1619636090847/work\n",
      "toml @ file:///tmp/build/80754af9/toml_1616166611790/work\n",
      "toolz @ file:///home/linux1/recipes/ci/toolz_1610987900194/work\n",
      "tornado @ file:///C:/ci/tornado_1606942392901/work\n",
      "tqdm @ file:///tmp/build/80754af9/tqdm_1615925068909/work\n",
      "traitlets @ file:///home/ktietz/src/ci/traitlets_1611929699868/work\n",
      "typed-ast @ file:///C:/ci/typed-ast_1610466535590/work\n",
      "typing-extensions @ file:///home/ktietz/src/ci_mi/typing_extensions_1612808209620/work\n",
      "ujson @ file:///C:/ci/ujson_1611241570789/work\n",
      "unicodecsv==0.14.1\n",
      "urllib3 @ file:///tmp/build/80754af9/urllib3_1615837158687/work\n",
      "watchdog @ file:///C:/ci/watchdog_1612471251191/work\n",
      "wcwidth @ file:///tmp/build/80754af9/wcwidth_1593447189090/work\n",
      "webencodings==0.5.1\n",
      "Werkzeug @ file:///home/ktietz/src/ci/werkzeug_1611932622770/work\n",
      "widgetsnbextension==3.5.1\n",
      "win-inet-pton @ file:///C:/ci/win_inet_pton_1605306167264/work\n",
      "win-unicode-console==0.5\n",
      "wincertstore==0.2\n",
      "wrapt==1.12.1\n",
      "xlrd @ file:///tmp/build/80754af9/xlrd_1608072521494/work\n",
      "XlsxWriter @ file:///tmp/build/80754af9/xlsxwriter_1617224712951/work\n",
      "xlwings==0.23.0\n",
      "xlwt==1.3.0\n",
      "xmltodict==0.12.0\n",
      "yapf @ file:///tmp/build/80754af9/yapf_1615749224965/work\n",
      "zict==2.0.0\n",
      "zipp @ file:///tmp/build/80754af9/zipp_1615904174917/work\n",
      "zope.event==4.5.0\n",
      "zope.interface @ file:///C:/ci/zope.interface_1616357322857/work\n"
     ]
    }
   ],
   "source": [
    "!pip freeze"
   ]
  },
  {
   "cell_type": "code",
   "execution_count": 27,
   "id": "2099d3a6-37d6-4609-9a9e-83415a205cf6",
   "metadata": {
    "collapsed": true,
    "jupyter": {
     "outputs_hidden": true
    },
    "tags": []
   },
   "outputs": [
    {
     "name": "stdout",
     "output_type": "stream",
     "text": [
      "Collecting logging"
     ]
    },
    {
     "name": "stderr",
     "output_type": "stream",
     "text": [
      "  ERROR: Command errored out with exit status 1:\n",
      "   command: 'C:\\Users\\Admin\\anaconda3\\python.exe' -u -c 'import sys, setuptools, tokenize; sys.argv[0] = '\"'\"'C:\\\\Users\\\\Admin\\\\AppData\\\\Local\\\\Temp\\\\pip-install-0xm7j_tw\\\\logging_9d081c6139f247ce89b7877cb0483542\\\\setup.py'\"'\"'; __file__='\"'\"'C:\\\\Users\\\\Admin\\\\AppData\\\\Local\\\\Temp\\\\pip-install-0xm7j_tw\\\\logging_9d081c6139f247ce89b7877cb0483542\\\\setup.py'\"'\"';f=getattr(tokenize, '\"'\"'open'\"'\"', open)(__file__);code=f.read().replace('\"'\"'\\r\\n'\"'\"', '\"'\"'\\n'\"'\"');f.close();exec(compile(code, __file__, '\"'\"'exec'\"'\"'))' bdist_wheel -d 'C:\\Users\\Admin\\AppData\\Local\\Temp\\pip-wheel-3xufwsiw'\n",
      "       cwd: C:\\Users\\Admin\\AppData\\Local\\Temp\\pip-install-0xm7j_tw\\logging_9d081c6139f247ce89b7877cb0483542\\\n",
      "  Complete output (26 lines):\n",
      "  Traceback (most recent call last):\n",
      "    File \"<string>\", line 1, in <module>\n",
      "    File \"C:\\Users\\Admin\\AppData\\Local\\Temp\\pip-install-0xm7j_tw\\logging_9d081c6139f247ce89b7877cb0483542\\setup.py\", line 3, in <module>\n",
      "      setup(name = \"logging\",\n",
      "    File \"C:\\Users\\Admin\\anaconda3\\lib\\distutils\\core.py\", line 134, in setup\n",
      "      ok = dist.parse_command_line()\n",
      "    File \"C:\\Users\\Admin\\anaconda3\\lib\\distutils\\dist.py\", line 483, in parse_command_line\n",
      "      args = self._parse_command_opts(parser, args)\n",
      "    File \"C:\\Users\\Admin\\anaconda3\\lib\\site-packages\\setuptools\\dist.py\", line 916, in _parse_command_opts\n",
      "      nargs = _Distribution._parse_command_opts(self, parser, args)\n",
      "    File \"C:\\Users\\Admin\\anaconda3\\lib\\distutils\\dist.py\", line 539, in _parse_command_opts\n",
      "      cmd_class = self.get_command_class(command)\n",
      "    File \"C:\\Users\\Admin\\anaconda3\\lib\\site-packages\\setuptools\\dist.py\", line 755, in get_command_class\n",
      "      self.cmdclass[command] = cmdclass = ep.load()\n",
      "    File \"C:\\Users\\Admin\\anaconda3\\lib\\site-packages\\pkg_resources\\__init__.py\", line 2450, in load\n",
      "      return self.resolve()\n",
      "    File \"C:\\Users\\Admin\\anaconda3\\lib\\site-packages\\pkg_resources\\__init__.py\", line 2456, in resolve\n",
      "      module = __import__(self.module_name, fromlist=['__name__'], level=0)\n",
      "    File \"C:\\Users\\Admin\\anaconda3\\lib\\site-packages\\wheel\\bdist_wheel.py\", line 28, in <module>\n",
      "      from .vendored.packaging import tags\n",
      "    File \"C:\\Users\\Admin\\anaconda3\\lib\\site-packages\\wheel\\vendored\\packaging\\tags.py\", line 17, in <module>\n",
      "      import logging\n",
      "    File \"C:\\Users\\Admin\\AppData\\Local\\Temp\\pip-install-0xm7j_tw\\logging_9d081c6139f247ce89b7877cb0483542\\logging\\__init__.py\", line 618\n",
      "      raise NotImplementedError, 'emit must be implemented '\\\n",
      "                               ^\n",
      "  SyntaxError: invalid syntax\n",
      "  ----------------------------------------\n",
      "  ERROR: Failed building wheel for logging\n",
      "    ERROR: Command errored out with exit status 1:\n",
      "     command: 'C:\\Users\\Admin\\anaconda3\\python.exe' -u -c 'import sys, setuptools, tokenize; sys.argv[0] = '\"'\"'C:\\\\Users\\\\Admin\\\\AppData\\\\Local\\\\Temp\\\\pip-install-0xm7j_tw\\\\logging_9d081c6139f247ce89b7877cb0483542\\\\setup.py'\"'\"'; __file__='\"'\"'C:\\\\Users\\\\Admin\\\\AppData\\\\Local\\\\Temp\\\\pip-install-0xm7j_tw\\\\logging_9d081c6139f247ce89b7877cb0483542\\\\setup.py'\"'\"';f=getattr(tokenize, '\"'\"'open'\"'\"', open)(__file__);code=f.read().replace('\"'\"'\\r\\n'\"'\"', '\"'\"'\\n'\"'\"');f.close();exec(compile(code, __file__, '\"'\"'exec'\"'\"'))' install --record 'C:\\Users\\Admin\\AppData\\Local\\Temp\\pip-record-dfyohj25\\install-record.txt' --single-version-externally-managed --compile --install-headers 'C:\\Users\\Admin\\anaconda3\\Include\\logging'\n",
      "         cwd: C:\\Users\\Admin\\AppData\\Local\\Temp\\pip-install-0xm7j_tw\\logging_9d081c6139f247ce89b7877cb0483542\\\n",
      "    Complete output (75 lines):\n",
      "    running install\n",
      "    running build\n",
      "    running build_py\n",
      "    creating build\n",
      "    creating build\\lib\n",
      "    creating build\\lib\\logging\n",
      "    copying logging\\config.py -> build\\lib\\logging\n",
      "    copying logging\\handlers.py -> build\\lib\\logging\n",
      "    copying logging\\__init__.py -> build\\lib\\logging\n",
      "    running install_lib\n",
      "    creating C:\\Users\\Admin\\anaconda3\\Lib\\site-packages\\logging\n",
      "    copying build\\lib\\logging\\config.py -> C:\\Users\\Admin\\anaconda3\\Lib\\site-packages\\logging\n",
      "    copying build\\lib\\logging\\handlers.py -> C:\\Users\\Admin\\anaconda3\\Lib\\site-packages\\logging\n",
      "    copying build\\lib\\logging\\__init__.py -> C:\\Users\\Admin\\anaconda3\\Lib\\site-packages\\logging\n",
      "    byte-compiling C:\\Users\\Admin\\anaconda3\\Lib\\site-packages\\logging\\config.py to config.cpython-38.pyc\n",
      "      File \"C:\\Users\\Admin\\anaconda3\\Lib\\site-packages\\logging\\config.py\", line 216\n",
      "        raise NotImplementedError, \"listen() needs threading to work\"\n",
      "                                 ^\n",
      "    SyntaxError: invalid syntax\n",
      "    \n",
      "    byte-compiling C:\\Users\\Admin\\anaconda3\\Lib\\site-packages\\logging\\handlers.py to handlers.cpython-38.pyc\n",
      "      File \"C:\\Users\\Admin\\anaconda3\\Lib\\site-packages\\logging\\handlers.py\", line 757\n",
      "        print \"The Python Win32 extensions for NT (service, event \"\\"
     ]
    },
    {
     "name": "stdout",
     "output_type": "stream",
     "text": [
      "\n",
      "  Downloading logging-0.4.9.6.tar.gz (96 kB)\n",
      "Building wheels for collected packages: logging\n",
      "  Building wheel for logging (setup.py): started\n",
      "  Building wheel for logging (setup.py): finished with status 'error'\n",
      "  Running setup.py clean for logging\n",
      "Failed to build logging\n",
      "Installing collected packages: logging\n",
      "    Running setup.py install for logging: started\n",
      "    Running setup.py install for logging: finished with status 'error'\n"
     ]
    },
    {
     "name": "stderr",
     "output_type": "stream",
     "text": [
      "\n",
      "              ^\n",
      "    SyntaxError: invalid syntax\n",
      "    \n",
      "    byte-compiling C:\\Users\\Admin\\anaconda3\\Lib\\site-packages\\logging\\__init__.py to __init__.cpython-38.pyc\n",
      "      File \"C:\\Users\\Admin\\anaconda3\\Lib\\site-packages\\logging\\__init__.py\", line 618\n",
      "        raise NotImplementedError, 'emit must be implemented '\\\n",
      "                                 ^\n",
      "    SyntaxError: invalid syntax\n",
      "    \n",
      "    running install_egg_info\n",
      "    running egg_info\n",
      "    creating logging.egg-info\n",
      "    writing logging.egg-info\\PKG-INFO\n",
      "    writing dependency_links to logging.egg-info\\dependency_links.txt\n",
      "    writing top-level names to logging.egg-info\\top_level.txt\n",
      "    writing manifest file 'logging.egg-info\\SOURCES.txt'\n",
      "    reading manifest file 'logging.egg-info\\SOURCES.txt'\n",
      "    writing manifest file 'logging.egg-info\\SOURCES.txt'\n",
      "    Copying logging.egg-info to C:\\Users\\Admin\\anaconda3\\Lib\\site-packages\\logging-0.4.9.6-py3.8.egg-info\n",
      "    running install_scripts\n",
      "    Traceback (most recent call last):\n",
      "      File \"<string>\", line 1, in <module>\n",
      "      File \"C:\\Users\\Admin\\AppData\\Local\\Temp\\pip-install-0xm7j_tw\\logging_9d081c6139f247ce89b7877cb0483542\\setup.py\", line 3, in <module>\n",
      "        setup(name = \"logging\",\n",
      "      File \"C:\\Users\\Admin\\anaconda3\\lib\\distutils\\core.py\", line 148, in setup\n",
      "        dist.run_commands()\n",
      "      File \"C:\\Users\\Admin\\anaconda3\\lib\\distutils\\dist.py\", line 966, in run_commands\n",
      "        self.run_command(cmd)\n",
      "      File \"C:\\Users\\Admin\\anaconda3\\lib\\distutils\\dist.py\", line 985, in run_command\n",
      "        cmd_obj.run()\n",
      "      File \"C:\\Users\\Admin\\anaconda3\\lib\\site-packages\\setuptools\\command\\install.py\", line 61, in run\n",
      "        return orig.install.run(self)\n",
      "      File \"C:\\Users\\Admin\\anaconda3\\lib\\distutils\\command\\install.py\", line 557, in run\n",
      "        self.run_command(cmd_name)\n",
      "      File \"C:\\Users\\Admin\\anaconda3\\lib\\distutils\\cmd.py\", line 313, in run_command\n",
      "        self.distribution.run_command(command)\n",
      "      File \"C:\\Users\\Admin\\anaconda3\\lib\\distutils\\dist.py\", line 985, in run_command\n",
      "        cmd_obj.run()\n",
      "      File \"C:\\Users\\Admin\\anaconda3\\lib\\site-packages\\setuptools\\command\\install_scripts.py\", line 17, in run\n",
      "        import setuptools.command.easy_install as ei\n",
      "      File \"C:\\Users\\Admin\\anaconda3\\lib\\site-packages\\setuptools\\command\\easy_install.py\", line 52, in <module>\n",
      "        from setuptools.package_index import (\n",
      "      File \"C:\\Users\\Admin\\anaconda3\\lib\\site-packages\\setuptools\\package_index.py\", line 30, in <module>\n",
      "        from setuptools.wheel import Wheel\n",
      "      File \"C:\\Users\\Admin\\anaconda3\\lib\\site-packages\\setuptools\\wheel.py\", line 15, in <module>\n",
      "        from setuptools.extern.packaging.tags import sys_tags\n",
      "      File \"C:\\Users\\Admin\\anaconda3\\lib\\site-packages\\setuptools\\_vendor\\packaging\\tags.py\", line 16, in <module>\n",
      "        import logging\n",
      "      File \"C:\\Users\\Admin\\AppData\\Local\\Temp\\pip-install-0xm7j_tw\\logging_9d081c6139f247ce89b7877cb0483542\\logging\\__init__.py\", line 618\n",
      "        raise NotImplementedError, 'emit must be implemented '\\\n",
      "                                 ^\n",
      "    SyntaxError: invalid syntax\n",
      "    ----------------------------------------\n",
      "ERROR: Command errored out with exit status 1: 'C:\\Users\\Admin\\anaconda3\\python.exe' -u -c 'import sys, setuptools, tokenize; sys.argv[0] = '\"'\"'C:\\\\Users\\\\Admin\\\\AppData\\\\Local\\\\Temp\\\\pip-install-0xm7j_tw\\\\logging_9d081c6139f247ce89b7877cb0483542\\\\setup.py'\"'\"'; __file__='\"'\"'C:\\\\Users\\\\Admin\\\\AppData\\\\Local\\\\Temp\\\\pip-install-0xm7j_tw\\\\logging_9d081c6139f247ce89b7877cb0483542\\\\setup.py'\"'\"';f=getattr(tokenize, '\"'\"'open'\"'\"', open)(__file__);code=f.read().replace('\"'\"'\\r\\n'\"'\"', '\"'\"'\\n'\"'\"');f.close();exec(compile(code, __file__, '\"'\"'exec'\"'\"'))' install --record 'C:\\Users\\Admin\\AppData\\Local\\Temp\\pip-record-dfyohj25\\install-record.txt' --single-version-externally-managed --compile --install-headers 'C:\\Users\\Admin\\anaconda3\\Include\\logging' Check the logs for full command output.\n"
     ]
    }
   ],
   "source": [
    "!pip install logging"
   ]
  },
  {
   "cell_type": "code",
   "execution_count": 28,
   "id": "8f08b6f9-3e74-410b-b27e-a02d871659a8",
   "metadata": {},
   "outputs": [],
   "source": [
    "import  os"
   ]
  },
  {
   "cell_type": "code",
   "execution_count": 30,
   "id": "ab0c3168-e80a-4fe2-ad1f-4afeb0ee5a67",
   "metadata": {},
   "outputs": [
    {
     "name": "stdout",
     "output_type": "stream",
     "text": [
      "['DirEntry', 'F_OK', 'MutableMapping', 'O_APPEND', 'O_BINARY', 'O_CREAT', 'O_EXCL', 'O_NOINHERIT', 'O_RANDOM', 'O_RDONLY', 'O_RDWR', 'O_SEQUENTIAL', 'O_SHORT_LIVED', 'O_TEMPORARY', 'O_TEXT', 'O_TRUNC', 'O_WRONLY', 'P_DETACH', 'P_NOWAIT', 'P_NOWAITO', 'P_OVERLAY', 'P_WAIT', 'PathLike', 'R_OK', 'SEEK_CUR', 'SEEK_END', 'SEEK_SET', 'TMP_MAX', 'W_OK', 'X_OK', '_AddedDllDirectory', '_Environ', '__all__', '__builtins__', '__cached__', '__doc__', '__file__', '__loader__', '__name__', '__package__', '__spec__', '_check_methods', '_execvpe', '_exists', '_exit', '_fspath', '_get_exports_list', '_putenv', '_unsetenv', '_wrap_close', 'abc', 'abort', 'access', 'add_dll_directory', 'altsep', 'chdir', 'chmod', 'close', 'closerange', 'cpu_count', 'curdir', 'defpath', 'device_encoding', 'devnull', 'dup', 'dup2', 'environ', 'error', 'execl', 'execle', 'execlp', 'execlpe', 'execv', 'execve', 'execvp', 'execvpe', 'extsep', 'fdopen', 'fsdecode', 'fsencode', 'fspath', 'fstat', 'fsync', 'ftruncate', 'get_exec_path', 'get_handle_inheritable', 'get_inheritable', 'get_terminal_size', 'getcwd', 'getcwdb', 'getenv', 'getlogin', 'getpid', 'getppid', 'isatty', 'kill', 'linesep', 'link', 'listdir', 'lseek', 'lstat', 'makedirs', 'mkdir', 'name', 'open', 'pardir', 'path', 'pathsep', 'pipe', 'popen', 'putenv', 'read', 'readlink', 'remove', 'removedirs', 'rename', 'renames', 'replace', 'rmdir', 'scandir', 'sep', 'set_handle_inheritable', 'set_inheritable', 'spawnl', 'spawnle', 'spawnv', 'spawnve', 'st', 'startfile', 'stat', 'stat_result', 'statvfs_result', 'strerror', 'supports_bytes_environ', 'supports_dir_fd', 'supports_effective_ids', 'supports_fd', 'supports_follow_symlinks', 'symlink', 'sys', 'system', 'terminal_size', 'times', 'times_result', 'truncate', 'umask', 'uname_result', 'unlink', 'urandom', 'utime', 'waitpid', 'walk', 'write']\n"
     ]
    }
   ],
   "source": [
    "print(dir(os))"
   ]
  },
  {
   "cell_type": "code",
   "execution_count": 29,
   "id": "628ef64c-262d-46dc-afb9-838d1ec03c3d",
   "metadata": {},
   "outputs": [],
   "source": [
    "os.mkdir('logging')"
   ]
  },
  {
   "cell_type": "code",
   "execution_count": 31,
   "id": "46d97696-b163-4ecb-9ba3-92641962df19",
   "metadata": {},
   "outputs": [
    {
     "data": {
      "text/plain": [
       "'C:\\\\Users\\\\Admin\\\\Desktop\\\\python_intro'"
      ]
     },
     "execution_count": 31,
     "metadata": {},
     "output_type": "execute_result"
    }
   ],
   "source": [
    "os.getcwd()"
   ]
  },
  {
   "cell_type": "code",
   "execution_count": 33,
   "id": "2fc291c3-8e35-4b86-bdfd-877bb33353e2",
   "metadata": {},
   "outputs": [],
   "source": [
    "os.chdir(os.getcwd() + '/' + 'logging')"
   ]
  },
  {
   "cell_type": "code",
   "execution_count": 34,
   "id": "57535f34-7ab2-46ed-a8e0-dd1b252e685f",
   "metadata": {},
   "outputs": [
    {
     "data": {
      "text/plain": [
       "'C:\\\\Users\\\\Admin\\\\Desktop\\\\python_intro\\\\logging'"
      ]
     },
     "execution_count": 34,
     "metadata": {},
     "output_type": "execute_result"
    }
   ],
   "source": [
    "os.getcwd()"
   ]
  },
  {
   "cell_type": "code",
   "execution_count": 35,
   "id": "b54719de-0098-4f77-b6c4-20a74ea904bc",
   "metadata": {
    "collapsed": true,
    "jupyter": {
     "outputs_hidden": true
    },
    "tags": []
   },
   "outputs": [
    {
     "ename": "NameError",
     "evalue": "name 'logging' is not defined",
     "output_type": "error",
     "traceback": [
      "\u001b[1;31m---------------------------------------------------------------------------\u001b[0m",
      "\u001b[1;31mNameError\u001b[0m                                 Traceback (most recent call last)",
      "\u001b[1;32m<ipython-input-35-0dc797bba05d>\u001b[0m in \u001b[0;36m<module>\u001b[1;34m\u001b[0m\n\u001b[1;32m----> 1\u001b[1;33m \u001b[0mprint\u001b[0m\u001b[1;33m(\u001b[0m\u001b[0mdir\u001b[0m\u001b[1;33m(\u001b[0m\u001b[0mlogging\u001b[0m\u001b[1;33m)\u001b[0m\u001b[1;33m)\u001b[0m\u001b[1;33m\u001b[0m\u001b[1;33m\u001b[0m\u001b[0m\n\u001b[0m",
      "\u001b[1;31mNameError\u001b[0m: name 'logging' is not defined"
     ]
    }
   ],
   "source": [
    "print(dir(logging))"
   ]
  },
  {
   "cell_type": "code",
   "execution_count": 36,
   "id": "8a8fed81-5607-4aeb-974f-607aca6a66cd",
   "metadata": {
    "jupyter": {
     "source_hidden": true
    },
    "tags": []
   },
   "outputs": [],
   "source": [
    "import logging as lg"
   ]
  },
  {
   "cell_type": "code",
   "execution_count": 37,
   "id": "16814829-e463-48ee-a111-4bb1dfe8dc5b",
   "metadata": {},
   "outputs": [],
   "source": [
    "lg.basicConfig(filename = 'C:\\\\Users\\\\Admin\\\\Desktop\\\\python_intro\\\\logging\\\\test.log',level = lg.ERROR,format='%(asctime)s %(message)s')"
   ]
  },
  {
   "cell_type": "code",
   "execution_count": 38,
   "id": "822f0b85-57a5-477a-baf7-656727bfcecc",
   "metadata": {},
   "outputs": [],
   "source": [
    "lg.error('This msg is for error')"
   ]
  },
  {
   "cell_type": "code",
   "execution_count": 39,
   "id": "f28274ce-0fef-4327-8122-15a5dc2def81",
   "metadata": {},
   "outputs": [],
   "source": [
    "lg.shutdown()"
   ]
  },
  {
   "cell_type": "code",
   "execution_count": 40,
   "id": "2242f758-45cc-49f0-94a6-c25f2854e54e",
   "metadata": {},
   "outputs": [],
   "source": [
    "lg.debug('this is for debugging')"
   ]
  },
  {
   "cell_type": "code",
   "execution_count": 42,
   "id": "3f532358-5382-466e-9871-6821b339599a",
   "metadata": {},
   "outputs": [],
   "source": [
    "lg.critical('this is critical log')"
   ]
  },
  {
   "cell_type": "code",
   "execution_count": 44,
   "id": "e6db0e4a-d499-4e19-b1e5-47fca446bc9d",
   "metadata": {},
   "outputs": [],
   "source": [
    "lg.error(\"this is my error log\")\n",
    "lg.exception(\"this is my exception log\")\n",
    "lg.warning(\"this is my warning log\")\n",
    "lg.info(\"this is my info log\")"
   ]
  },
  {
   "cell_type": "code",
   "execution_count": null,
   "id": "62df8139-2f52-45b9-a7f8-2b5059e2895e",
   "metadata": {},
   "outputs": [],
   "source": []
  },
  {
   "cell_type": "code",
   "execution_count": null,
   "id": "53530db2-4fb5-4eee-9ad3-2580130802b3",
   "metadata": {},
   "outputs": [],
   "source": []
  },
  {
   "cell_type": "code",
   "execution_count": 47,
   "id": "2e9d4c20-1290-4f47-9dd2-3a83f584e00d",
   "metadata": {},
   "outputs": [
    {
     "name": "stdout",
     "output_type": "stream",
     "text": [
      "iteration 0:x=1598369\n",
      "iteration 1:x=1578270\n",
      "iteration 2:x=1576058\n",
      "iteration 3:x=1636459\n",
      "iteration 4:x=1678308\n",
      "iteration 5:x=1754243\n",
      "iteration 6:x=1545803\n",
      "iteration 7:x=1744839\n",
      "iteration 8:x=1672666\n",
      "iteration 9:x=1625078\n",
      "iteration 10:x=1678819\n",
      "iteration 11:x=1563371\n",
      "iteration 12:x=1661760\n",
      "iteration 13:x=1566089\n",
      "iteration 14:x=1688061\n",
      "iteration 15:x=1706875\n",
      "iteration 16:x=1596559\n",
      "iteration 17:x=1604711\n",
      "iteration 18:x=1709399\n",
      "iteration 19:x=1666074\n"
     ]
    }
   ],
   "source": [
    "import threading \n",
    "\n",
    "x = 0 \n",
    "def increment():\n",
    "    global x\n",
    "    \n",
    "    x  += 1\n",
    "    \n",
    "def thread_task():\n",
    "     for _  in range(1000000):\n",
    "        increment()\n",
    "def main_task():\n",
    "    global x\n",
    "    x=0\n",
    "\n",
    "    t1=threading.Thread(target = thread_task)\n",
    "    t2= threading.Thread(target = thread_task)\n",
    "\n",
    "\n",
    "    t1.start()\n",
    "    t2.start()\n",
    "    \n",
    "    \n",
    "    t1.join()\n",
    "    t2.join()\n",
    "    \n",
    "if __name__  == \"__main__\" : \n",
    "     \n",
    "        for i in range(20):\n",
    "            main_task()\n",
    "            print(\"iteration {0}:x={1}\" .format(i,x))"
   ]
  },
  {
   "cell_type": "code",
   "execution_count": null,
   "id": "05afb833-8479-442d-9708-ded910a253ec",
   "metadata": {},
   "outputs": [],
   "source": []
  }
 ],
 "metadata": {
  "kernelspec": {
   "display_name": "Python 3",
   "language": "python",
   "name": "python3"
  },
  "language_info": {
   "codemirror_mode": {
    "name": "ipython",
    "version": 3
   },
   "file_extension": ".py",
   "mimetype": "text/x-python",
   "name": "python",
   "nbconvert_exporter": "python",
   "pygments_lexer": "ipython3",
   "version": "3.8.8"
  }
 },
 "nbformat": 4,
 "nbformat_minor": 5
}
